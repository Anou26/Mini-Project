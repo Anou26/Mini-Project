{
  "nbformat": 4,
  "nbformat_minor": 0,
  "metadata": {
    "colab": {
      "name": "Stock Price Forecasting using LSTM.ipynb",
      "provenance": [],
      "collapsed_sections": [],
      "authorship_tag": "ABX9TyN5x6ngWkItH82OCeZiVkVJ",
      "include_colab_link": true
    },
    "kernelspec": {
      "name": "python3",
      "display_name": "Python 3"
    },
    "language_info": {
      "name": "python"
    }
  },
  "cells": [
    {
      "cell_type": "markdown",
      "metadata": {
        "id": "view-in-github",
        "colab_type": "text"
      },
      "source": [
        "<a href=\"https://colab.research.google.com/github/Anou26/Mini-Project/blob/main/Stock_Price_Forecasting_using_LSTM.ipynb\" target=\"_parent\"><img src=\"https://colab.research.google.com/assets/colab-badge.svg\" alt=\"Open In Colab\"/></a>"
      ]
    },
    {
      "cell_type": "code",
      "metadata": {
        "id": "biQhXf-z3gvV"
      },
      "source": [
        " # IMPORTING LIBRARIES\n",
        "import pandas as pd\n",
        "import matplotlib.pyplot as plt\n",
        "import numpy as np \n",
        "import math\n",
        "from sklearn.preprocessing import MinMaxScaler\n",
        "from sklearn.metrics import mean_squared_error\n",
        "from keras.models import Sequential\n",
        "from keras.layers import Dense, Activation\n",
        "from keras.layers import LSTM"
      ],
      "execution_count": null,
      "outputs": []
    },
    {
      "cell_type": "code",
      "metadata": {
        "id": "iYCUHieY3vXh"
      },
      "source": [
        "# IMPORTING DATASET \n",
        "url='https://raw.githubusercontent.com/Anou26/Mini-Project/main/%5ENSEI%20(1).csv' #after lockdown\n",
        "\n",
        "#url='https://raw.githubusercontent.com/Anou26/Mini-Project/main/%5ENSEI%20(3).csv' #before lockdown"
      ],
      "execution_count": null,
      "outputs": []
    },
    {
      "cell_type": "code",
      "metadata": {
        "colab": {
          "base_uri": "https://localhost:8080/",
          "height": 206
        },
        "id": "XAr0He9l30ny",
        "outputId": "9da28b9f-927c-4745-b7d9-6e1fd75cdfd7"
      },
      "source": [
        "df = pd.read_csv(url)\n",
        "df.head()"
      ],
      "execution_count": null,
      "outputs": [
        {
          "output_type": "execute_result",
          "data": {
            "text/html": [
              "<div>\n",
              "<style scoped>\n",
              "    .dataframe tbody tr th:only-of-type {\n",
              "        vertical-align: middle;\n",
              "    }\n",
              "\n",
              "    .dataframe tbody tr th {\n",
              "        vertical-align: top;\n",
              "    }\n",
              "\n",
              "    .dataframe thead th {\n",
              "        text-align: right;\n",
              "    }\n",
              "</style>\n",
              "<table border=\"1\" class=\"dataframe\">\n",
              "  <thead>\n",
              "    <tr style=\"text-align: right;\">\n",
              "      <th></th>\n",
              "      <th>Date</th>\n",
              "      <th>Open</th>\n",
              "      <th>High</th>\n",
              "      <th>Low</th>\n",
              "      <th>Close</th>\n",
              "      <th>Adj Close</th>\n",
              "      <th>Volume</th>\n",
              "    </tr>\n",
              "  </thead>\n",
              "  <tbody>\n",
              "    <tr>\n",
              "      <th>0</th>\n",
              "      <td>10-08-2020</td>\n",
              "      <td>11270.25000</td>\n",
              "      <td>11337.29981</td>\n",
              "      <td>11238.00000</td>\n",
              "      <td>11270.15039</td>\n",
              "      <td>11270.15039</td>\n",
              "      <td>492000.0</td>\n",
              "    </tr>\n",
              "    <tr>\n",
              "      <th>1</th>\n",
              "      <td>11-08-2020</td>\n",
              "      <td>11322.25000</td>\n",
              "      <td>11373.59961</td>\n",
              "      <td>11299.15039</td>\n",
              "      <td>11322.50000</td>\n",
              "      <td>11322.50000</td>\n",
              "      <td>586100.0</td>\n",
              "    </tr>\n",
              "    <tr>\n",
              "      <th>2</th>\n",
              "      <td>12-08-2020</td>\n",
              "      <td>11289.00000</td>\n",
              "      <td>11322.00000</td>\n",
              "      <td>11242.65039</td>\n",
              "      <td>11308.40039</td>\n",
              "      <td>11308.40039</td>\n",
              "      <td>609900.0</td>\n",
              "    </tr>\n",
              "    <tr>\n",
              "      <th>3</th>\n",
              "      <td>13-08-2020</td>\n",
              "      <td>11334.84961</td>\n",
              "      <td>11359.29981</td>\n",
              "      <td>11269.95020</td>\n",
              "      <td>11300.45020</td>\n",
              "      <td>11300.45020</td>\n",
              "      <td>562400.0</td>\n",
              "    </tr>\n",
              "    <tr>\n",
              "      <th>4</th>\n",
              "      <td>14-08-2020</td>\n",
              "      <td>11353.29981</td>\n",
              "      <td>11366.25000</td>\n",
              "      <td>11111.45020</td>\n",
              "      <td>11178.40039</td>\n",
              "      <td>11178.40039</td>\n",
              "      <td>645100.0</td>\n",
              "    </tr>\n",
              "  </tbody>\n",
              "</table>\n",
              "</div>"
            ],
            "text/plain": [
              "         Date         Open         High  ...        Close    Adj Close    Volume\n",
              "0  10-08-2020  11270.25000  11337.29981  ...  11270.15039  11270.15039  492000.0\n",
              "1  11-08-2020  11322.25000  11373.59961  ...  11322.50000  11322.50000  586100.0\n",
              "2  12-08-2020  11289.00000  11322.00000  ...  11308.40039  11308.40039  609900.0\n",
              "3  13-08-2020  11334.84961  11359.29981  ...  11300.45020  11300.45020  562400.0\n",
              "4  14-08-2020  11353.29981  11366.25000  ...  11178.40039  11178.40039  645100.0\n",
              "\n",
              "[5 rows x 7 columns]"
            ]
          },
          "metadata": {},
          "execution_count": 120
        }
      ]
    },
    {
      "cell_type": "code",
      "metadata": {
        "colab": {
          "base_uri": "https://localhost:8080/",
          "height": 206
        },
        "id": "LA1Xa64ttHxI",
        "outputId": "555f86b9-683d-4a92-ff8f-6d44e1445641"
      },
      "source": [
        "df.tail()"
      ],
      "execution_count": null,
      "outputs": [
        {
          "output_type": "execute_result",
          "data": {
            "text/html": [
              "<div>\n",
              "<style scoped>\n",
              "    .dataframe tbody tr th:only-of-type {\n",
              "        vertical-align: middle;\n",
              "    }\n",
              "\n",
              "    .dataframe tbody tr th {\n",
              "        vertical-align: top;\n",
              "    }\n",
              "\n",
              "    .dataframe thead th {\n",
              "        text-align: right;\n",
              "    }\n",
              "</style>\n",
              "<table border=\"1\" class=\"dataframe\">\n",
              "  <thead>\n",
              "    <tr style=\"text-align: right;\">\n",
              "      <th></th>\n",
              "      <th>Date</th>\n",
              "      <th>Open</th>\n",
              "      <th>High</th>\n",
              "      <th>Low</th>\n",
              "      <th>Close</th>\n",
              "      <th>Adj Close</th>\n",
              "      <th>Volume</th>\n",
              "    </tr>\n",
              "  </thead>\n",
              "  <tbody>\n",
              "    <tr>\n",
              "      <th>244</th>\n",
              "      <td>02-08-2021</td>\n",
              "      <td>15874.90039</td>\n",
              "      <td>15892.90039</td>\n",
              "      <td>15834.65039</td>\n",
              "      <td>15885.15039</td>\n",
              "      <td>15885.15039</td>\n",
              "      <td>244800.0</td>\n",
              "    </tr>\n",
              "    <tr>\n",
              "      <th>245</th>\n",
              "      <td>03-08-2021</td>\n",
              "      <td>15951.54981</td>\n",
              "      <td>16146.90039</td>\n",
              "      <td>15914.34961</td>\n",
              "      <td>16130.75000</td>\n",
              "      <td>16130.75000</td>\n",
              "      <td>341300.0</td>\n",
              "    </tr>\n",
              "    <tr>\n",
              "      <th>246</th>\n",
              "      <td>04-08-2021</td>\n",
              "      <td>16195.25000</td>\n",
              "      <td>16290.20020</td>\n",
              "      <td>16176.15039</td>\n",
              "      <td>16258.79981</td>\n",
              "      <td>16258.79981</td>\n",
              "      <td>427300.0</td>\n",
              "    </tr>\n",
              "    <tr>\n",
              "      <th>247</th>\n",
              "      <td>05-08-2021</td>\n",
              "      <td>16288.95020</td>\n",
              "      <td>16349.45020</td>\n",
              "      <td>16210.29981</td>\n",
              "      <td>16294.59961</td>\n",
              "      <td>16294.59961</td>\n",
              "      <td>418200.0</td>\n",
              "    </tr>\n",
              "    <tr>\n",
              "      <th>248</th>\n",
              "      <td>06-08-2021</td>\n",
              "      <td>16304.40039</td>\n",
              "      <td>16336.75000</td>\n",
              "      <td>16223.29981</td>\n",
              "      <td>16238.20020</td>\n",
              "      <td>16238.20020</td>\n",
              "      <td>320100.0</td>\n",
              "    </tr>\n",
              "  </tbody>\n",
              "</table>\n",
              "</div>"
            ],
            "text/plain": [
              "           Date         Open         High  ...        Close    Adj Close    Volume\n",
              "244  02-08-2021  15874.90039  15892.90039  ...  15885.15039  15885.15039  244800.0\n",
              "245  03-08-2021  15951.54981  16146.90039  ...  16130.75000  16130.75000  341300.0\n",
              "246  04-08-2021  16195.25000  16290.20020  ...  16258.79981  16258.79981  427300.0\n",
              "247  05-08-2021  16288.95020  16349.45020  ...  16294.59961  16294.59961  418200.0\n",
              "248  06-08-2021  16304.40039  16336.75000  ...  16238.20020  16238.20020  320100.0\n",
              "\n",
              "[5 rows x 7 columns]"
            ]
          },
          "metadata": {},
          "execution_count": 121
        }
      ]
    },
    {
      "cell_type": "code",
      "metadata": {
        "colab": {
          "base_uri": "https://localhost:8080/"
        },
        "id": "qDVsQSwatfhe",
        "outputId": "c8f82d46-00ce-431b-99b2-1ed0bd598f8a"
      },
      "source": [
        "df.info()"
      ],
      "execution_count": null,
      "outputs": [
        {
          "output_type": "stream",
          "name": "stdout",
          "text": [
            "<class 'pandas.core.frame.DataFrame'>\n",
            "RangeIndex: 249 entries, 0 to 248\n",
            "Data columns (total 7 columns):\n",
            " #   Column     Non-Null Count  Dtype  \n",
            "---  ------     --------------  -----  \n",
            " 0   Date       249 non-null    object \n",
            " 1   Open       247 non-null    float64\n",
            " 2   High       247 non-null    float64\n",
            " 3   Low        247 non-null    float64\n",
            " 4   Close      247 non-null    float64\n",
            " 5   Adj Close  247 non-null    float64\n",
            " 6   Volume     247 non-null    float64\n",
            "dtypes: float64(6), object(1)\n",
            "memory usage: 13.7+ KB\n"
          ]
        }
      ]
    },
    {
      "cell_type": "code",
      "metadata": {
        "id": "zEflKWmm33_R"
      },
      "source": [
        "#DATA CLEANING\n",
        "df = df.drop(df.index[[71,103]]) #these rows had Null values throughout\n",
        "#df = df.drop(df.index[[153]]) \n",
        "df = df.dropna() #removing the NA values"
      ],
      "execution_count": null,
      "outputs": []
    },
    {
      "cell_type": "code",
      "metadata": {
        "colab": {
          "base_uri": "https://localhost:8080/"
        },
        "id": "wSNpzJskt6_2",
        "outputId": "ca1fb570-5916-496a-ce68-06ba5e0f6e46"
      },
      "source": [
        "df.info()"
      ],
      "execution_count": null,
      "outputs": [
        {
          "output_type": "stream",
          "name": "stdout",
          "text": [
            "<class 'pandas.core.frame.DataFrame'>\n",
            "Int64Index: 245 entries, 0 to 248\n",
            "Data columns (total 7 columns):\n",
            " #   Column     Non-Null Count  Dtype  \n",
            "---  ------     --------------  -----  \n",
            " 0   Date       245 non-null    object \n",
            " 1   Open       245 non-null    float64\n",
            " 2   High       245 non-null    float64\n",
            " 3   Low        245 non-null    float64\n",
            " 4   Close      245 non-null    float64\n",
            " 5   Adj Close  245 non-null    float64\n",
            " 6   Volume     245 non-null    float64\n",
            "dtypes: float64(6), object(1)\n",
            "memory usage: 15.3+ KB\n"
          ]
        }
      ]
    },
    {
      "cell_type": "code",
      "metadata": {
        "colab": {
          "base_uri": "https://localhost:8080/"
        },
        "id": "pOoH4cGk7AFO",
        "outputId": "e123cdaa-f736-4078-f252-3b6541598c1b"
      },
      "source": [
        " # TAKING DIFFERENT INDICATORS FOR PREDICTION\n",
        "#Filtering only the close price\n",
        "data = df.filter(['Close'])\n",
        "dataset=data.values\n",
        "len(dataset)\n",
        "print(dataset)"
      ],
      "execution_count": null,
      "outputs": [
        {
          "output_type": "stream",
          "name": "stdout",
          "text": [
            "[[11270.15039]\n",
            " [11322.5    ]\n",
            " [11308.40039]\n",
            " [11300.4502 ]\n",
            " [11178.40039]\n",
            " [11247.09961]\n",
            " [11385.34961]\n",
            " [11408.40039]\n",
            " [11312.2002 ]\n",
            " [11371.59961]\n",
            " [11466.4502 ]\n",
            " [11472.25   ]\n",
            " [11549.59961]\n",
            " [11559.25   ]\n",
            " [11647.59961]\n",
            " [11387.5    ]\n",
            " [11470.25   ]\n",
            " [11535.     ]\n",
            " [11527.4502 ]\n",
            " [11333.84961]\n",
            " [11355.04981]\n",
            " [11317.34961]\n",
            " [11278.     ]\n",
            " [11449.25   ]\n",
            " [11464.4502 ]\n",
            " [11440.04981]\n",
            " [11521.79981]\n",
            " [11604.54981]\n",
            " [11516.09961]\n",
            " [11504.9502 ]\n",
            " [11250.54981]\n",
            " [11153.65039]\n",
            " [11131.84961]\n",
            " [10805.54981]\n",
            " [11050.25   ]\n",
            " [11227.54981]\n",
            " [11222.40039]\n",
            " [11247.54981]\n",
            " [11416.9502 ]\n",
            " [11503.34961]\n",
            " [11662.40039]\n",
            " [11738.84961]\n",
            " [11834.59961]\n",
            " [11914.2002 ]\n",
            " [11930.9502 ]\n",
            " [11934.5    ]\n",
            " [11971.04981]\n",
            " [11680.34961]\n",
            " [11762.4502 ]\n",
            " [11873.04981]\n",
            " [11896.79981]\n",
            " [11937.65039]\n",
            " [11896.4502 ]\n",
            " [11930.34961]\n",
            " [11767.75   ]\n",
            " [11889.40039]\n",
            " [11729.59961]\n",
            " [11670.79981]\n",
            " [11642.40039]\n",
            " [11669.15039]\n",
            " [11813.5    ]\n",
            " [11908.5    ]\n",
            " [12120.29981]\n",
            " [12263.54981]\n",
            " [12461.04981]\n",
            " [12631.09961]\n",
            " [12749.15039]\n",
            " [12690.79981]\n",
            " [12719.9502 ]\n",
            " [12874.2002 ]\n",
            " [12771.7002 ]\n",
            " [12859.04981]\n",
            " [12926.4502 ]\n",
            " [13055.15039]\n",
            " [12858.40039]\n",
            " [12987.     ]\n",
            " [12968.9502 ]\n",
            " [13109.04981]\n",
            " [13113.75   ]\n",
            " [13133.90039]\n",
            " [13258.54981]\n",
            " [13355.75   ]\n",
            " [13392.9502 ]\n",
            " [13529.09961]\n",
            " [13478.29981]\n",
            " [13513.84961]\n",
            " [13558.15039]\n",
            " [13567.84961]\n",
            " [13682.7002 ]\n",
            " [13740.7002 ]\n",
            " [13760.54981]\n",
            " [13328.40039]\n",
            " [13466.29981]\n",
            " [13601.09961]\n",
            " [13749.25   ]\n",
            " [13873.2002 ]\n",
            " [13932.59961]\n",
            " [13981.9502 ]\n",
            " [13981.75   ]\n",
            " [14132.90039]\n",
            " [14146.25   ]\n",
            " [14137.34961]\n",
            " [14347.25   ]\n",
            " [14484.75   ]\n",
            " [14563.4502 ]\n",
            " [14564.84961]\n",
            " [14595.59961]\n",
            " [14433.7002 ]\n",
            " [14281.29981]\n",
            " [14521.15039]\n",
            " [14644.7002 ]\n",
            " [14590.34961]\n",
            " [14371.90039]\n",
            " [14238.90039]\n",
            " [13967.5    ]\n",
            " [13817.54981]\n",
            " [13634.59961]\n",
            " [14281.2002 ]\n",
            " [14647.84961]\n",
            " [14789.9502 ]\n",
            " [14895.65039]\n",
            " [14924.25   ]\n",
            " [15115.79981]\n",
            " [15109.29981]\n",
            " [15106.5    ]\n",
            " [15173.29981]\n",
            " [15163.29981]\n",
            " [15314.7002 ]\n",
            " [15313.4502 ]\n",
            " [15208.90039]\n",
            " [15118.9502 ]\n",
            " [14981.75   ]\n",
            " [14675.7002 ]\n",
            " [14707.79981]\n",
            " [14982.     ]\n",
            " [15097.34961]\n",
            " [14529.15039]\n",
            " [14761.54981]\n",
            " [14919.09961]\n",
            " [15245.59961]\n",
            " [15080.75   ]\n",
            " [14938.09961]\n",
            " [14956.2002 ]\n",
            " [15098.40039]\n",
            " [15174.79981]\n",
            " [15030.9502 ]\n",
            " [14929.5    ]\n",
            " [14910.4502 ]\n",
            " [14721.29981]\n",
            " [14557.84961]\n",
            " [14744.     ]\n",
            " [14736.40039]\n",
            " [14814.75   ]\n",
            " [14549.40039]\n",
            " [14324.90039]\n",
            " [14507.29981]\n",
            " [14845.09961]\n",
            " [14690.7002 ]\n",
            " [14867.34961]\n",
            " [14637.79981]\n",
            " [14683.5    ]\n",
            " [14819.04981]\n",
            " [14873.79981]\n",
            " [14834.84961]\n",
            " [14310.79981]\n",
            " [14504.79981]\n",
            " [14581.4502 ]\n",
            " [14617.84961]\n",
            " [14359.4502 ]\n",
            " [14296.40039]\n",
            " [14406.15039]\n",
            " [14341.34961]\n",
            " [14485.     ]\n",
            " [14653.04981]\n",
            " [14864.54981]\n",
            " [14894.90039]\n",
            " [14631.09961]\n",
            " [14634.15039]\n",
            " [14496.5    ]\n",
            " [14617.84961]\n",
            " [14724.79981]\n",
            " [14823.15039]\n",
            " [14942.34961]\n",
            " [14850.75   ]\n",
            " [14696.5    ]\n",
            " [14677.79981]\n",
            " [14923.15039]\n",
            " [15108.09961]\n",
            " [15030.15039]\n",
            " [14906.04981]\n",
            " [15175.29981]\n",
            " [15197.7002 ]\n",
            " [15208.4502 ]\n",
            " [15301.4502 ]\n",
            " [15337.84961]\n",
            " [15435.65039]\n",
            " [15582.79981]\n",
            " [15574.84961]\n",
            " [15576.2002 ]\n",
            " [15690.34961]\n",
            " [15670.25   ]\n",
            " [15751.65039]\n",
            " [15740.09961]\n",
            " [15635.34961]\n",
            " [15737.75   ]\n",
            " [15799.34961]\n",
            " [15811.84961]\n",
            " [15869.25   ]\n",
            " [15767.54981]\n",
            " [15691.40039]\n",
            " [15683.34961]\n",
            " [15746.5    ]\n",
            " [15772.75   ]\n",
            " [15686.9502 ]\n",
            " [15790.4502 ]\n",
            " [15860.34961]\n",
            " [15814.7002 ]\n",
            " [15748.4502 ]\n",
            " [15721.5    ]\n",
            " [15680.     ]\n",
            " [15722.2002 ]\n",
            " [15834.34961]\n",
            " [15818.25   ]\n",
            " [15879.65039]\n",
            " [15727.90039]\n",
            " [15689.79981]\n",
            " [15692.59961]\n",
            " [15812.34961]\n",
            " [15853.9502 ]\n",
            " [15924.2002 ]\n",
            " [15923.40039]\n",
            " [15752.40039]\n",
            " [15632.09961]\n",
            " [15824.04981]\n",
            " [15856.04981]\n",
            " [15824.4502 ]\n",
            " [15746.4502 ]\n",
            " [15709.40039]\n",
            " [15778.4502 ]\n",
            " [15763.04981]\n",
            " [15885.15039]\n",
            " [16130.75   ]\n",
            " [16258.79981]\n",
            " [16294.59961]\n",
            " [16238.2002 ]]\n"
          ]
        }
      ]
    },
    {
      "cell_type": "code",
      "metadata": {
        "colab": {
          "base_uri": "https://localhost:8080/",
          "height": 427
        },
        "id": "aK-z6f8O4fIA",
        "outputId": "a3e609c8-433c-4df5-c634-21d578af6288"
      },
      "source": [
        "#Plotting the close price movement\n",
        "plt.figure(figsize=(8,6))\n",
        "plt.title('Close Price Movement')\n",
        "plt.plot(df['Close'])\n",
        "plt.xlabel('Date in days',fontsize=16)\n",
        "plt.ylabel('Close price in ₹',fontsize=16)\n",
        "plt.show"
      ],
      "execution_count": null,
      "outputs": [
        {
          "output_type": "execute_result",
          "data": {
            "text/plain": [
              "<function matplotlib.pyplot.show>"
            ]
          },
          "metadata": {},
          "execution_count": 126
        },
        {
          "output_type": "display_data",
          "data": {
            "image/png": "[encoded data removed]",
            "text/plain": [
              "<Figure size 576x432 with 1 Axes>"
            ]
          },
          "metadata": {
            "needs_background": "light"
          }
        }
      ]
    },
    {
      "cell_type": "code",
      "metadata": {
        "id": "sNiJreWa4ka1"
      },
      "source": [
        "# PREPARATION OF TIME SERIES DATASET\n",
        "#Normalize the dataset\n",
        "#Feature Scaling\n",
        "scaler=MinMaxScaler(feature_range=(0,1))\n",
        "scaled_data=scaler.fit_transform(dataset)"
      ],
      "execution_count": null,
      "outputs": []
    },
    {
      "cell_type": "code",
      "metadata": {
        "colab": {
          "base_uri": "https://localhost:8080/"
        },
        "id": "EwCsHS_kVpdb",
        "outputId": "40035426-ef9b-4110-928b-0b40b90a7a17"
      },
      "source": [
        "scaled_data"
      ],
      "execution_count": null,
      "outputs": [
        {
          "output_type": "execute_result",
          "data": {
            "text/plain": [
              "array([[0.08464135],\n",
              "       [0.09417845],\n",
              "       [0.09160977],\n",
              "       [0.0901614 ],\n",
              "       [0.06792625],\n",
              "       [0.08044194],\n",
              "       [0.10562845],\n",
              "       [0.10982786],\n",
              "       [0.09230202],\n",
              "       [0.10312346],\n",
              "       [0.12040342],\n",
              "       [0.12146004],\n",
              "       [0.13555166],\n",
              "       [0.13730977],\n",
              "       [0.15340539],\n",
              "       [0.10602021],\n",
              "       [0.12109567],\n",
              "       [0.13289189],\n",
              "       [0.13151646],\n",
              "       [0.09624613],\n",
              "       [0.1001084 ],\n",
              "       [0.09324015],\n",
              "       [0.0860714 ],\n",
              "       [0.11726988],\n",
              "       [0.12003906],\n",
              "       [0.11559378],\n",
              "       [0.13048707],\n",
              "       [0.14556253],\n",
              "       [0.1294486 ],\n",
              "       [0.12741739],\n",
              "       [0.0810705 ],\n",
              "       [0.06341727],\n",
              "       [0.05944559],\n",
              "       [0.        ],\n",
              "       [0.0445797 ],\n",
              "       [0.07688034],\n",
              "       [0.07594221],\n",
              "       [0.08052396],\n",
              "       [0.11138547],\n",
              "       [0.12712579],\n",
              "       [0.1561018 ],\n",
              "       [0.17002939],\n",
              "       [0.18747321],\n",
              "       [0.20197492],\n",
              "       [0.20502645],\n",
              "       [0.20567315],\n",
              "       [0.21233183],\n",
              "       [0.15937181],\n",
              "       [0.17432897],\n",
              "       [0.1944781 ],\n",
              "       [0.1988049 ],\n",
              "       [0.2062471 ],\n",
              "       [0.19874121],\n",
              "       [0.20491703],\n",
              "       [0.17529449],\n",
              "       [0.19745687],\n",
              "       [0.16834422],\n",
              "       [0.15763202],\n",
              "       [0.15245819],\n",
              "       [0.15733153],\n",
              "       [0.18362927],\n",
              "       [0.20093645],\n",
              "       [0.23952233],\n",
              "       [0.26561974],\n",
              "       [0.30160047],\n",
              "       [0.33258029],\n",
              "       [0.35408689],\n",
              "       [0.34345653],\n",
              "       [0.34876717],\n",
              "       [0.37686858],\n",
              "       [0.35819504],\n",
              "       [0.37410847],\n",
              "       [0.38638753],\n",
              "       [0.40983424],\n",
              "       [0.37399015],\n",
              "       [0.39741855],\n",
              "       [0.39413022],\n",
              "       [0.41965369],\n",
              "       [0.42050997],\n",
              "       [0.42418099],\n",
              "       [0.44688973],\n",
              "       [0.46459775],\n",
              "       [0.47137492],\n",
              "       [0.49617874],\n",
              "       [0.48692398],\n",
              "       [0.49340048],\n",
              "       [0.50147123],\n",
              "       [0.50323825],\n",
              "       [0.52416183],\n",
              "       [0.53472832],\n",
              "       [0.53834454],\n",
              "       [0.45961517],\n",
              "       [0.48473781],\n",
              "       [0.50929576],\n",
              "       [0.53628593],\n",
              "       [0.55886729],\n",
              "       [0.56968873],\n",
              "       [0.57867946],\n",
              "       [0.57864299],\n",
              "       [0.6061797 ],\n",
              "       [0.60861175],\n",
              "       [0.60699027],\n",
              "       [0.64523011],\n",
              "       [0.67027998],\n",
              "       [0.68461765],\n",
              "       [0.6848726 ],\n",
              "       [0.69047466],\n",
              "       [0.66097968],\n",
              "       [0.63321524],\n",
              "       [0.67691144],\n",
              "       [0.69941985],\n",
              "       [0.68951821],\n",
              "       [0.64972094],\n",
              "       [0.62549088],\n",
              "       [0.57604691],\n",
              "       [0.54872885],\n",
              "       [0.51539882],\n",
              "       [0.6331971 ],\n",
              "       [0.69999361],\n",
              "       [0.72588163],\n",
              "       [0.74513818],\n",
              "       [0.75034848],\n",
              "       [0.7852452 ],\n",
              "       [0.78406102],\n",
              "       [0.78355095],\n",
              "       [0.7957206 ],\n",
              "       [0.79389879],\n",
              "       [0.82148105],\n",
              "       [0.82125332],\n",
              "       [0.80220635],\n",
              "       [0.78581914],\n",
              "       [0.76082388],\n",
              "       [0.70506746],\n",
              "       [0.71091539],\n",
              "       [0.76086943],\n",
              "       [0.78188392],\n",
              "       [0.67836888],\n",
              "       [0.72070762],\n",
              "       [0.74941018],\n",
              "       [0.80889224],\n",
              "       [0.77885979],\n",
              "       [0.75287162],\n",
              "       [0.7561692 ],\n",
              "       [0.78207536],\n",
              "       [0.79599387],\n",
              "       [0.76978722],\n",
              "       [0.75130493],\n",
              "       [0.74783442],\n",
              "       [0.71337484],\n",
              "       [0.68359733],\n",
              "       [0.71751038],\n",
              "       [0.71612587],\n",
              "       [0.73039968],\n",
              "       [0.68205805],\n",
              "       [0.64115844],\n",
              "       [0.67438812],\n",
              "       [0.73592879],\n",
              "       [0.70780017],\n",
              "       [0.73998232],\n",
              "       [0.69816273],\n",
              "       [0.70648843],\n",
              "       [0.73118302],\n",
              "       [0.74115742],\n",
              "       [0.73406144],\n",
              "       [0.63858958],\n",
              "       [0.67393267],\n",
              "       [0.68789691],\n",
              "       [0.69452819],\n",
              "       [0.64745275],\n",
              "       [0.63596628],\n",
              "       [0.65596063],\n",
              "       [0.64415517],\n",
              "       [0.67032553],\n",
              "       [0.70094099],\n",
              "       [0.73947225],\n",
              "       [0.74500154],\n",
              "       [0.69694208],\n",
              "       [0.69749788],\n",
              "       [0.67242061],\n",
              "       [0.69452819],\n",
              "       [0.71401247],\n",
              "       [0.73193007],\n",
              "       [0.75364589],\n",
              "       [0.73695819],\n",
              "       [0.70885678],\n",
              "       [0.70544997],\n",
              "       [0.75014815],\n",
              "       [0.78384237],\n",
              "       [0.76964151],\n",
              "       [0.74703276],\n",
              "       [0.79608496],\n",
              "       [0.80016588],\n",
              "       [0.80212433],\n",
              "       [0.81906715],\n",
              "       [0.82569843],\n",
              "       [0.84351586],\n",
              "       [0.87032368],\n",
              "       [0.8688753 ],\n",
              "       [0.86912135],\n",
              "       [0.88991719],\n",
              "       [0.88625543],\n",
              "       [0.90108503],\n",
              "       [0.89898069],\n",
              "       [0.87989725],\n",
              "       [0.89855264],\n",
              "       [0.90977491],\n",
              "       [0.91205217],\n",
              "       [0.92250943],\n",
              "       [0.9039816 ],\n",
              "       [0.89010863],\n",
              "       [0.88864193],\n",
              "       [0.90014672],\n",
              "       [0.90492897],\n",
              "       [0.88929789],\n",
              "       [0.90815361],\n",
              "       [0.92088795],\n",
              "       [0.9125715 ],\n",
              "       [0.90050201],\n",
              "       [0.8955922 ],\n",
              "       [0.88803169],\n",
              "       [0.89571976],\n",
              "       [0.91615124],\n",
              "       [0.9132182 ],\n",
              "       [0.92440418],\n",
              "       [0.89675823],\n",
              "       [0.88981703],\n",
              "       [0.8903271 ],\n",
              "       [0.91214326],\n",
              "       [0.9197221 ],\n",
              "       [0.9325203 ],\n",
              "       [0.93237459],\n",
              "       [0.90122166],\n",
              "       [0.87930516],\n",
              "       [0.91427482],\n",
              "       [0.92010461],\n",
              "       [0.91434776],\n",
              "       [0.90013765],\n",
              "       [0.89338788],\n",
              "       [0.90596744],\n",
              "       [0.90316178],\n",
              "       [0.92540618],\n",
              "       [0.97014973],\n",
              "       [0.99347796],\n",
              "       [1.        ],\n",
              "       [0.98972511]])"
            ]
          },
          "metadata": {},
          "execution_count": 128
        }
      ]
    },
    {
      "cell_type": "code",
      "metadata": {
        "colab": {
          "base_uri": "https://localhost:8080/"
        },
        "id": "6AoSiLd04hWp",
        "outputId": "ddd99a1d-191e-4ed9-d96f-9a0c5a067da9"
      },
      "source": [
        "#TRAIN-TEST SPLIT\n",
        "train_data = data.iloc[:,4:5].values #selecting only the closing prices for training\n",
        "training_data_size=int(len(dataset) * 0.8)\n",
        "testing_data_size=len(dataset) - training_data_size\n",
        "print(\"Training data size =\", training_data_size)\n",
        "print(\"Testing data size =\", testing_data_size)"
      ],
      "execution_count": null,
      "outputs": [
        {
          "output_type": "stream",
          "name": "stdout",
          "text": [
            "Training data size = 196\n",
            "Testing data size = 49\n"
          ]
        }
      ]
    },
    {
      "cell_type": "code",
      "metadata": {
        "colab": {
          "base_uri": "https://localhost:8080/"
        },
        "id": "QeWlX9Ku4mZx",
        "outputId": "492685d7-630a-4c1b-a66e-d80f72f6e01d"
      },
      "source": [
        "#TRAINING THE MODEL\n",
        "train_data = scaled_data[0:training_data_size, :]\n",
        "x_train = []\n",
        "y_train = [] \n",
        "for i in range(1,len(train_data)):   ##timestep=1\n",
        "  x_train.append(train_data[i-1:i, 0]) \n",
        "  y_train.append(train_data[i,0])\n",
        "  if i<=1:\n",
        "    print(x_train)\n",
        "    print(y_train)"
      ],
      "execution_count": null,
      "outputs": [
        {
          "output_type": "stream",
          "name": "stdout",
          "text": [
            "[array([0.08464135])]\n",
            "[0.09417844778890538]\n"
          ]
        }
      ]
    },
    {
      "cell_type": "code",
      "metadata": {
        "colab": {
          "base_uri": "https://localhost:8080/"
        },
        "id": "3uf0eKHQ4pDI",
        "outputId": "7594d99d-b10a-4d47-ea9e-f0e48f60e5a6"
      },
      "source": [
        "#RESHAPING TRAIN DATA\n",
        "x_train, y_train = np.array(x_train), np.array(y_train) #We do this to convert the data into array so that we can use it for the lstm model\n",
        "x_train = np.reshape(x_train,(x_train.shape[0],x_train.shape[1], 1)) #Our data is in 2-D but lstm expects 3-D so we convert it\n",
        "x_train.shape"
      ],
      "execution_count": null,
      "outputs": [
        {
          "output_type": "execute_result",
          "data": {
            "text/plain": [
              "(195, 1, 1)"
            ]
          },
          "metadata": {},
          "execution_count": 131
        }
      ]
    },
    {
      "cell_type": "code",
      "metadata": {
        "id": "h47wpiLB4rOA"
      },
      "source": [
        "#LSTM MODEL\n",
        "model = Sequential()\n",
        "model.add(LSTM(units=100, return_sequences = True, input_shape =(x_train.shape[1],1)))\n",
        "model.add(LSTM(units=50, return_sequences = False))\n",
        "model.add(Dense(units = 1, activation ='linear'))"
      ],
      "execution_count": null,
      "outputs": []
    },
    {
      "cell_type": "code",
      "metadata": {
        "id": "dnu8LZro41OJ"
      },
      "source": [
        "model.compile(optimizer='adam',loss=\"mean_squared_error\", metrics='mse')"
      ],
      "execution_count": null,
      "outputs": []
    },
    {
      "cell_type": "code",
      "metadata": {
        "colab": {
          "base_uri": "https://localhost:8080/"
        },
        "id": "XRrtIj2L5dFK",
        "outputId": "78146adc-64c7-47b3-c33f-e900611971e6"
      },
      "source": [
        "history = model.fit(x_train, y_train, epochs=100, validation_split=0.1, batch_size=32)"
      ],
      "execution_count": null,
      "outputs": [
        {
          "output_type": "stream",
          "name": "stdout",
          "text": [
            "Epoch 1/100\n",
            "6/6 [==============================] - 4s 159ms/step - loss: 0.2599 - mse: 0.2599 - val_loss: 0.5119 - val_mse: 0.5119\n",
            "Epoch 2/100\n",
            "6/6 [==============================] - 0s 8ms/step - loss: 0.2289 - mse: 0.2289 - val_loss: 0.4513 - val_mse: 0.4513\n",
            "Epoch 3/100\n",
            "6/6 [==============================] - 0s 8ms/step - loss: 0.1958 - mse: 0.1958 - val_loss: 0.3838 - val_mse: 0.3838\n",
            "Epoch 4/100\n",
            "6/6 [==============================] - 0s 8ms/step - loss: 0.1604 - mse: 0.1604 - val_loss: 0.3067 - val_mse: 0.3067\n",
            "Epoch 5/100\n",
            "6/6 [==============================] - 0s 8ms/step - loss: 0.1205 - mse: 0.1205 - val_loss: 0.2220 - val_mse: 0.2220\n",
            "Epoch 6/100\n",
            "6/6 [==============================] - 0s 8ms/step - loss: 0.0807 - mse: 0.0807 - val_loss: 0.1354 - val_mse: 0.1354\n",
            "Epoch 7/100\n",
            "6/6 [==============================] - 0s 8ms/step - loss: 0.0473 - mse: 0.0473 - val_loss: 0.0603 - val_mse: 0.0603\n",
            "Epoch 8/100\n",
            "6/6 [==============================] - 0s 8ms/step - loss: 0.0271 - mse: 0.0271 - val_loss: 0.0164 - val_mse: 0.0164\n",
            "Epoch 9/100\n",
            "6/6 [==============================] - 0s 7ms/step - loss: 0.0252 - mse: 0.0252 - val_loss: 0.0035 - val_mse: 0.0035\n",
            "Epoch 10/100\n",
            "6/6 [==============================] - 0s 8ms/step - loss: 0.0259 - mse: 0.0259 - val_loss: 0.0039 - val_mse: 0.0039\n",
            "Epoch 11/100\n",
            "6/6 [==============================] - 0s 9ms/step - loss: 0.0222 - mse: 0.0222 - val_loss: 0.0096 - val_mse: 0.0096\n",
            "Epoch 12/100\n",
            "6/6 [==============================] - 0s 8ms/step - loss: 0.0188 - mse: 0.0188 - val_loss: 0.0151 - val_mse: 0.0151\n",
            "Epoch 13/100\n",
            "6/6 [==============================] - 0s 8ms/step - loss: 0.0176 - mse: 0.0176 - val_loss: 0.0174 - val_mse: 0.0174\n",
            "Epoch 14/100\n",
            "6/6 [==============================] - 0s 8ms/step - loss: 0.0161 - mse: 0.0161 - val_loss: 0.0142 - val_mse: 0.0142\n",
            "Epoch 15/100\n",
            "6/6 [==============================] - 0s 8ms/step - loss: 0.0141 - mse: 0.0141 - val_loss: 0.0094 - val_mse: 0.0094\n",
            "Epoch 16/100\n",
            "6/6 [==============================] - 0s 9ms/step - loss: 0.0124 - mse: 0.0124 - val_loss: 0.0061 - val_mse: 0.0061\n",
            "Epoch 17/100\n",
            "6/6 [==============================] - 0s 8ms/step - loss: 0.0109 - mse: 0.0109 - val_loss: 0.0045 - val_mse: 0.0045\n",
            "Epoch 18/100\n",
            "6/6 [==============================] - 0s 8ms/step - loss: 0.0095 - mse: 0.0095 - val_loss: 0.0047 - val_mse: 0.0047\n",
            "Epoch 19/100\n",
            "6/6 [==============================] - 0s 8ms/step - loss: 0.0081 - mse: 0.0081 - val_loss: 0.0042 - val_mse: 0.0042\n",
            "Epoch 20/100\n",
            "6/6 [==============================] - 0s 8ms/step - loss: 0.0068 - mse: 0.0068 - val_loss: 0.0033 - val_mse: 0.0033\n",
            "Epoch 21/100\n",
            "6/6 [==============================] - 0s 8ms/step - loss: 0.0057 - mse: 0.0057 - val_loss: 0.0022 - val_mse: 0.0022\n",
            "Epoch 22/100\n",
            "6/6 [==============================] - 0s 8ms/step - loss: 0.0047 - mse: 0.0047 - val_loss: 0.0016 - val_mse: 0.0016\n",
            "Epoch 23/100\n",
            "6/6 [==============================] - 0s 8ms/step - loss: 0.0039 - mse: 0.0039 - val_loss: 0.0015 - val_mse: 0.0015\n",
            "Epoch 24/100\n",
            "6/6 [==============================] - 0s 8ms/step - loss: 0.0032 - mse: 0.0032 - val_loss: 0.0014 - val_mse: 0.0014\n",
            "Epoch 25/100\n",
            "6/6 [==============================] - 0s 8ms/step - loss: 0.0027 - mse: 0.0027 - val_loss: 0.0011 - val_mse: 0.0011\n",
            "Epoch 26/100\n",
            "6/6 [==============================] - 0s 8ms/step - loss: 0.0022 - mse: 0.0022 - val_loss: 8.4705e-04 - val_mse: 8.4705e-04\n",
            "Epoch 27/100\n",
            "6/6 [==============================] - 0s 9ms/step - loss: 0.0019 - mse: 0.0019 - val_loss: 7.1888e-04 - val_mse: 7.1888e-04\n",
            "Epoch 28/100\n",
            "6/6 [==============================] - 0s 8ms/step - loss: 0.0017 - mse: 0.0017 - val_loss: 6.9767e-04 - val_mse: 6.9767e-04\n",
            "Epoch 29/100\n",
            "6/6 [==============================] - 0s 9ms/step - loss: 0.0015 - mse: 0.0015 - val_loss: 6.9560e-04 - val_mse: 6.9560e-04\n",
            "Epoch 30/100\n",
            "6/6 [==============================] - 0s 7ms/step - loss: 0.0014 - mse: 0.0014 - val_loss: 6.8078e-04 - val_mse: 6.8078e-04\n",
            "Epoch 31/100\n",
            "6/6 [==============================] - 0s 9ms/step - loss: 0.0013 - mse: 0.0013 - val_loss: 6.9934e-04 - val_mse: 6.9934e-04\n",
            "Epoch 32/100\n",
            "6/6 [==============================] - 0s 8ms/step - loss: 0.0013 - mse: 0.0013 - val_loss: 7.2578e-04 - val_mse: 7.2578e-04\n",
            "Epoch 33/100\n",
            "6/6 [==============================] - 0s 9ms/step - loss: 0.0012 - mse: 0.0012 - val_loss: 7.1154e-04 - val_mse: 7.1154e-04\n",
            "Epoch 34/100\n",
            "6/6 [==============================] - 0s 8ms/step - loss: 0.0012 - mse: 0.0012 - val_loss: 7.9637e-04 - val_mse: 7.9637e-04\n",
            "Epoch 35/100\n",
            "6/6 [==============================] - 0s 9ms/step - loss: 0.0012 - mse: 0.0012 - val_loss: 7.5579e-04 - val_mse: 7.5579e-04\n",
            "Epoch 36/100\n",
            "6/6 [==============================] - 0s 8ms/step - loss: 0.0012 - mse: 0.0012 - val_loss: 7.3832e-04 - val_mse: 7.3832e-04\n",
            "Epoch 37/100\n",
            "6/6 [==============================] - 0s 8ms/step - loss: 0.0012 - mse: 0.0012 - val_loss: 7.6667e-04 - val_mse: 7.6667e-04\n",
            "Epoch 38/100\n",
            "6/6 [==============================] - 0s 10ms/step - loss: 0.0012 - mse: 0.0012 - val_loss: 7.9460e-04 - val_mse: 7.9460e-04\n",
            "Epoch 39/100\n",
            "6/6 [==============================] - 0s 8ms/step - loss: 0.0012 - mse: 0.0012 - val_loss: 7.5565e-04 - val_mse: 7.5565e-04\n",
            "Epoch 40/100\n",
            "6/6 [==============================] - 0s 8ms/step - loss: 0.0012 - mse: 0.0012 - val_loss: 7.6522e-04 - val_mse: 7.6522e-04\n",
            "Epoch 41/100\n",
            "6/6 [==============================] - 0s 8ms/step - loss: 0.0012 - mse: 0.0012 - val_loss: 7.5013e-04 - val_mse: 7.5013e-04\n",
            "Epoch 42/100\n",
            "6/6 [==============================] - 0s 8ms/step - loss: 0.0012 - mse: 0.0012 - val_loss: 7.8005e-04 - val_mse: 7.8005e-04\n",
            "Epoch 43/100\n",
            "6/6 [==============================] - 0s 8ms/step - loss: 0.0012 - mse: 0.0012 - val_loss: 7.9097e-04 - val_mse: 7.9097e-04\n",
            "Epoch 44/100\n",
            "6/6 [==============================] - 0s 9ms/step - loss: 0.0012 - mse: 0.0012 - val_loss: 7.8711e-04 - val_mse: 7.8711e-04\n",
            "Epoch 45/100\n",
            "6/6 [==============================] - 0s 9ms/step - loss: 0.0012 - mse: 0.0012 - val_loss: 7.1046e-04 - val_mse: 7.1046e-04\n",
            "Epoch 46/100\n",
            "6/6 [==============================] - 0s 9ms/step - loss: 0.0012 - mse: 0.0012 - val_loss: 7.4586e-04 - val_mse: 7.4586e-04\n",
            "Epoch 47/100\n",
            "6/6 [==============================] - 0s 10ms/step - loss: 0.0012 - mse: 0.0012 - val_loss: 9.2703e-04 - val_mse: 9.2703e-04\n",
            "Epoch 48/100\n",
            "6/6 [==============================] - 0s 8ms/step - loss: 0.0012 - mse: 0.0012 - val_loss: 7.2760e-04 - val_mse: 7.2760e-04\n",
            "Epoch 49/100\n",
            "6/6 [==============================] - 0s 9ms/step - loss: 0.0012 - mse: 0.0012 - val_loss: 7.1802e-04 - val_mse: 7.1802e-04\n",
            "Epoch 50/100\n",
            "6/6 [==============================] - 0s 9ms/step - loss: 0.0012 - mse: 0.0012 - val_loss: 7.6644e-04 - val_mse: 7.6644e-04\n",
            "Epoch 51/100\n",
            "6/6 [==============================] - 0s 9ms/step - loss: 0.0012 - mse: 0.0012 - val_loss: 7.6850e-04 - val_mse: 7.6850e-04\n",
            "Epoch 52/100\n",
            "6/6 [==============================] - 0s 8ms/step - loss: 0.0012 - mse: 0.0012 - val_loss: 7.5657e-04 - val_mse: 7.5657e-04\n",
            "Epoch 53/100\n",
            "6/6 [==============================] - 0s 8ms/step - loss: 0.0012 - mse: 0.0012 - val_loss: 7.8477e-04 - val_mse: 7.8477e-04\n",
            "Epoch 54/100\n",
            "6/6 [==============================] - 0s 9ms/step - loss: 0.0012 - mse: 0.0012 - val_loss: 7.5098e-04 - val_mse: 7.5098e-04\n",
            "Epoch 55/100\n",
            "6/6 [==============================] - 0s 8ms/step - loss: 0.0012 - mse: 0.0012 - val_loss: 7.1639e-04 - val_mse: 7.1639e-04\n",
            "Epoch 56/100\n",
            "6/6 [==============================] - 0s 9ms/step - loss: 0.0011 - mse: 0.0011 - val_loss: 7.4792e-04 - val_mse: 7.4792e-04\n",
            "Epoch 57/100\n",
            "6/6 [==============================] - 0s 8ms/step - loss: 0.0011 - mse: 0.0011 - val_loss: 8.2602e-04 - val_mse: 8.2602e-04\n",
            "Epoch 58/100\n",
            "6/6 [==============================] - 0s 8ms/step - loss: 0.0012 - mse: 0.0012 - val_loss: 7.8116e-04 - val_mse: 7.8116e-04\n",
            "Epoch 59/100\n",
            "6/6 [==============================] - 0s 8ms/step - loss: 0.0011 - mse: 0.0011 - val_loss: 7.1358e-04 - val_mse: 7.1358e-04\n",
            "Epoch 60/100\n",
            "6/6 [==============================] - 0s 9ms/step - loss: 0.0011 - mse: 0.0011 - val_loss: 7.2628e-04 - val_mse: 7.2628e-04\n",
            "Epoch 61/100\n",
            "6/6 [==============================] - 0s 9ms/step - loss: 0.0011 - mse: 0.0011 - val_loss: 7.3235e-04 - val_mse: 7.3235e-04\n",
            "Epoch 62/100\n",
            "6/6 [==============================] - 0s 10ms/step - loss: 0.0011 - mse: 0.0011 - val_loss: 7.9990e-04 - val_mse: 7.9990e-04\n",
            "Epoch 63/100\n",
            "6/6 [==============================] - 0s 8ms/step - loss: 0.0012 - mse: 0.0012 - val_loss: 6.9749e-04 - val_mse: 6.9749e-04\n",
            "Epoch 64/100\n",
            "6/6 [==============================] - 0s 9ms/step - loss: 0.0011 - mse: 0.0011 - val_loss: 7.8559e-04 - val_mse: 7.8559e-04\n",
            "Epoch 65/100\n",
            "6/6 [==============================] - 0s 9ms/step - loss: 0.0011 - mse: 0.0011 - val_loss: 7.2569e-04 - val_mse: 7.2569e-04\n",
            "Epoch 66/100\n",
            "6/6 [==============================] - 0s 10ms/step - loss: 0.0011 - mse: 0.0011 - val_loss: 7.2571e-04 - val_mse: 7.2571e-04\n",
            "Epoch 67/100\n",
            "6/6 [==============================] - 0s 13ms/step - loss: 0.0011 - mse: 0.0011 - val_loss: 7.2527e-04 - val_mse: 7.2527e-04\n",
            "Epoch 68/100\n",
            "6/6 [==============================] - 0s 9ms/step - loss: 0.0011 - mse: 0.0011 - val_loss: 7.5794e-04 - val_mse: 7.5794e-04\n",
            "Epoch 69/100\n",
            "6/6 [==============================] - 0s 8ms/step - loss: 0.0011 - mse: 0.0011 - val_loss: 8.0740e-04 - val_mse: 8.0740e-04\n",
            "Epoch 70/100\n",
            "6/6 [==============================] - 0s 8ms/step - loss: 0.0011 - mse: 0.0011 - val_loss: 7.0706e-04 - val_mse: 7.0706e-04\n",
            "Epoch 71/100\n",
            "6/6 [==============================] - 0s 8ms/step - loss: 0.0011 - mse: 0.0011 - val_loss: 6.9516e-04 - val_mse: 6.9516e-04\n",
            "Epoch 72/100\n",
            "6/6 [==============================] - 0s 9ms/step - loss: 0.0011 - mse: 0.0011 - val_loss: 7.6529e-04 - val_mse: 7.6529e-04\n",
            "Epoch 73/100\n",
            "6/6 [==============================] - 0s 8ms/step - loss: 0.0011 - mse: 0.0011 - val_loss: 7.5751e-04 - val_mse: 7.5751e-04\n",
            "Epoch 74/100\n",
            "6/6 [==============================] - 0s 10ms/step - loss: 0.0011 - mse: 0.0011 - val_loss: 6.8315e-04 - val_mse: 6.8315e-04\n",
            "Epoch 75/100\n",
            "6/6 [==============================] - 0s 9ms/step - loss: 0.0011 - mse: 0.0011 - val_loss: 7.2251e-04 - val_mse: 7.2251e-04\n",
            "Epoch 76/100\n",
            "6/6 [==============================] - 0s 9ms/step - loss: 0.0011 - mse: 0.0011 - val_loss: 7.1738e-04 - val_mse: 7.1738e-04\n",
            "Epoch 77/100\n",
            "6/6 [==============================] - 0s 10ms/step - loss: 0.0011 - mse: 0.0011 - val_loss: 7.3773e-04 - val_mse: 7.3773e-04\n",
            "Epoch 78/100\n",
            "6/6 [==============================] - 0s 9ms/step - loss: 0.0011 - mse: 0.0011 - val_loss: 6.8890e-04 - val_mse: 6.8890e-04\n",
            "Epoch 79/100\n",
            "6/6 [==============================] - 0s 9ms/step - loss: 0.0011 - mse: 0.0011 - val_loss: 6.8720e-04 - val_mse: 6.8720e-04\n",
            "Epoch 80/100\n",
            "6/6 [==============================] - 0s 8ms/step - loss: 0.0011 - mse: 0.0011 - val_loss: 6.9870e-04 - val_mse: 6.9870e-04\n",
            "Epoch 81/100\n",
            "6/6 [==============================] - 0s 8ms/step - loss: 0.0011 - mse: 0.0011 - val_loss: 7.3231e-04 - val_mse: 7.3231e-04\n",
            "Epoch 82/100\n",
            "6/6 [==============================] - 0s 8ms/step - loss: 0.0011 - mse: 0.0011 - val_loss: 6.7873e-04 - val_mse: 6.7873e-04\n",
            "Epoch 83/100\n",
            "6/6 [==============================] - 0s 9ms/step - loss: 0.0011 - mse: 0.0011 - val_loss: 7.0624e-04 - val_mse: 7.0624e-04\n",
            "Epoch 84/100\n",
            "6/6 [==============================] - 0s 10ms/step - loss: 0.0011 - mse: 0.0011 - val_loss: 7.5741e-04 - val_mse: 7.5741e-04\n",
            "Epoch 85/100\n",
            "6/6 [==============================] - 0s 8ms/step - loss: 0.0011 - mse: 0.0011 - val_loss: 6.7384e-04 - val_mse: 6.7384e-04\n",
            "Epoch 86/100\n",
            "6/6 [==============================] - 0s 9ms/step - loss: 0.0011 - mse: 0.0011 - val_loss: 6.8511e-04 - val_mse: 6.8511e-04\n",
            "Epoch 87/100\n",
            "6/6 [==============================] - 0s 9ms/step - loss: 0.0011 - mse: 0.0011 - val_loss: 7.2687e-04 - val_mse: 7.2687e-04\n",
            "Epoch 88/100\n",
            "6/6 [==============================] - 0s 9ms/step - loss: 0.0011 - mse: 0.0011 - val_loss: 6.6915e-04 - val_mse: 6.6915e-04\n",
            "Epoch 89/100\n",
            "6/6 [==============================] - 0s 12ms/step - loss: 0.0011 - mse: 0.0011 - val_loss: 6.8374e-04 - val_mse: 6.8374e-04\n",
            "Epoch 90/100\n",
            "6/6 [==============================] - 0s 7ms/step - loss: 0.0010 - mse: 0.0010 - val_loss: 6.7118e-04 - val_mse: 6.7118e-04\n",
            "Epoch 91/100\n",
            "6/6 [==============================] - 0s 9ms/step - loss: 0.0011 - mse: 0.0011 - val_loss: 6.7394e-04 - val_mse: 6.7394e-04\n",
            "Epoch 92/100\n",
            "6/6 [==============================] - 0s 8ms/step - loss: 0.0010 - mse: 0.0010 - val_loss: 6.7658e-04 - val_mse: 6.7658e-04\n",
            "Epoch 93/100\n",
            "6/6 [==============================] - 0s 11ms/step - loss: 0.0010 - mse: 0.0010 - val_loss: 6.9062e-04 - val_mse: 6.9062e-04\n",
            "Epoch 94/100\n",
            "6/6 [==============================] - 0s 9ms/step - loss: 0.0010 - mse: 0.0010 - val_loss: 6.7141e-04 - val_mse: 6.7141e-04\n",
            "Epoch 95/100\n",
            "6/6 [==============================] - 0s 9ms/step - loss: 0.0010 - mse: 0.0010 - val_loss: 7.0921e-04 - val_mse: 7.0921e-04\n",
            "Epoch 96/100\n",
            "6/6 [==============================] - 0s 9ms/step - loss: 0.0010 - mse: 0.0010 - val_loss: 6.8879e-04 - val_mse: 6.8879e-04\n",
            "Epoch 97/100\n",
            "6/6 [==============================] - 0s 8ms/step - loss: 0.0010 - mse: 0.0010 - val_loss: 6.8167e-04 - val_mse: 6.8167e-04\n",
            "Epoch 98/100\n",
            "6/6 [==============================] - 0s 10ms/step - loss: 0.0010 - mse: 0.0010 - val_loss: 6.6550e-04 - val_mse: 6.6550e-04\n",
            "Epoch 99/100\n",
            "6/6 [==============================] - 0s 8ms/step - loss: 0.0010 - mse: 0.0010 - val_loss: 7.0157e-04 - val_mse: 7.0157e-04\n",
            "Epoch 100/100\n",
            "6/6 [==============================] - 0s 8ms/step - loss: 0.0010 - mse: 0.0010 - val_loss: 6.8451e-04 - val_mse: 6.8451e-04\n"
          ]
        }
      ]
    },
    {
      "cell_type": "code",
      "metadata": {
        "colab": {
          "base_uri": "https://localhost:8080/",
          "height": 300
        },
        "id": "jMB5vhKl61_O",
        "outputId": "bf87ea21-dcb2-4264-ad5c-c6943295d0e8"
      },
      "source": [
        "plt.plot(history.history['loss'],label=\"Training loss\")\n",
        "plt.plot(history.history['val_loss'],label='Validation loss')\n",
        "plt.xlabel('epochs',fontsize=16)\n",
        "plt.ylabel('loss',fontsize=16)\n",
        "plt.title(\"Loss vs Validation Loss\")\n",
        "plt.legend()\n",
        "plt.grid(True);"
      ],
      "execution_count": null,
      "outputs": [
        {
          "output_type": "display_data",
          "data": {
            "image/png": "[encoded data removed]",
            "text/plain": [
              "<Figure size 432x288 with 1 Axes>"
            ]
          },
          "metadata": {
            "needs_background": "light"
          }
        }
      ]
    },
    {
      "cell_type": "code",
      "metadata": {
        "colab": {
          "base_uri": "https://localhost:8080/"
        },
        "id": "B077kkwOqyb_",
        "outputId": "683600bb-4dcf-486f-e7c9-f91df44c3c9b"
      },
      "source": [
        "model.summary()"
      ],
      "execution_count": null,
      "outputs": [
        {
          "output_type": "stream",
          "name": "stdout",
          "text": [
            "Model: \"sequential_4\"\n",
            "_________________________________________________________________\n",
            "Layer (type)                 Output Shape              Param #   \n",
            "=================================================================\n",
            "lstm_8 (LSTM)                (None, 1, 100)            40800     \n",
            "_________________________________________________________________\n",
            "lstm_9 (LSTM)                (None, 50)                30200     \n",
            "_________________________________________________________________\n",
            "dense_4 (Dense)              (None, 1)                 51        \n",
            "=================================================================\n",
            "Total params: 71,051\n",
            "Trainable params: 71,051\n",
            "Non-trainable params: 0\n",
            "_________________________________________________________________\n"
          ]
        }
      ]
    },
    {
      "cell_type": "code",
      "metadata": {
        "id": "ht7M2u-644QP"
      },
      "source": [
        "#TESTING THE MODEL\n",
        "test_data = scaled_data[training_data_size - 1:, :]\n",
        "x_test = []\n",
        "y_test = dataset[training_data_size:, :]\n",
        "for i in range(1, len(test_data)):\n",
        "  x_test.append(test_data[i-1:i, 0])"
      ],
      "execution_count": null,
      "outputs": []
    },
    {
      "cell_type": "code",
      "metadata": {
        "id": "2dYqPfkA47E2"
      },
      "source": [
        "x_test = np.array(x_test) #We convert testing data to an array"
      ],
      "execution_count": null,
      "outputs": []
    },
    {
      "cell_type": "code",
      "metadata": {
        "id": "fyHorks-49cc"
      },
      "source": [
        "x_test = np.reshape(x_test, (x_test.shape[0], x_test.shape[1],1)) #Reshaping our 2-D testing data into 3-D "
      ],
      "execution_count": null,
      "outputs": []
    },
    {
      "cell_type": "code",
      "metadata": {
        "id": "Hk744Cgg5FyQ",
        "colab": {
          "base_uri": "https://localhost:8080/"
        },
        "outputId": "e87dada8-0264-4efc-e3a7-57da0d8b02f3"
      },
      "source": [
        "predictions = model.predict(x_test) #We use the testing data to generate our prediction\n",
        "predictions = scaler.inverse_transform(predictions) #We inverse our initial transformed data to original form for prediction"
      ],
      "execution_count": null,
      "outputs": [
        {
          "output_type": "stream",
          "name": "stdout",
          "text": [
            "WARNING:tensorflow:5 out of the last 9 calls to <function Model.make_predict_function.<locals>.predict_function at 0x7f0760c34f80> triggered tf.function retracing. Tracing is expensive and the excessive number of tracings could be due to (1) creating @tf.function repeatedly in a loop, (2) passing tensors with different shapes, (3) passing Python objects instead of tensors. For (1), please define your @tf.function outside of the loop. For (2), @tf.function has experimental_relax_shapes=True option that relaxes argument shapes that can avoid unnecessary retracing. For (3), please refer to https://www.tensorflow.org/guide/function#controlling_retracing and https://www.tensorflow.org/api_docs/python/tf/function for  more details.\n"
          ]
        }
      ]
    },
    {
      "cell_type": "code",
      "metadata": {
        "colab": {
          "base_uri": "https://localhost:8080/"
        },
        "id": "usuxhgdR5H2k",
        "outputId": "95623e87-590e-45d4-ba96-a135d25b27e0"
      },
      "source": [
        "rmse = np.sqrt(np.mean(predictions - y_test)**2)\n",
        "rmse"
      ],
      "execution_count": null,
      "outputs": [
        {
          "output_type": "execute_result",
          "data": {
            "text/plain": [
              "181.59829203443923"
            ]
          },
          "metadata": {},
          "execution_count": 141
        }
      ]
    },
    {
      "cell_type": "code",
      "metadata": {
        "colab": {
          "base_uri": "https://localhost:8080/",
          "height": 517
        },
        "id": "emxtpTVn6L1M",
        "outputId": "1fc3f0dd-9c26-4397-974c-59cb3dd0d267"
      },
      "source": [
        "#Plotting our predictions\n",
        "train = data[:training_data_size]\n",
        "valid = data[training_data_size:]\n",
        "valid['predictions'] = predictions\n",
        "plt.figure(figsize=(8,6))\n",
        "plt.xlabel('Date in days' , fontsize=18)\n",
        "plt.ylabel('Close Price in INR', fontsize=18)\n",
        "plt.plot(train['Close'])\n",
        "plt.plot(valid[['Close','predictions']])\n",
        "plt.legend(['Train','Val','predictions'],loc='lower right')\n",
        "plt.show"
      ],
      "execution_count": null,
      "outputs": [
        {
          "output_type": "stream",
          "name": "stderr",
          "text": [
            "/usr/local/lib/python3.7/dist-packages/ipykernel_launcher.py:4: SettingWithCopyWarning: \n",
            "A value is trying to be set on a copy of a slice from a DataFrame.\n",
            "Try using .loc[row_indexer,col_indexer] = value instead\n",
            "\n",
            "See the caveats in the documentation: https://pandas.pydata.org/pandas-docs/stable/user_guide/indexing.html#returning-a-view-versus-a-copy\n",
            "  after removing the cwd from sys.path.\n"
          ]
        },
        {
          "output_type": "execute_result",
          "data": {
            "text/plain": [
              "<function matplotlib.pyplot.show>"
            ]
          },
          "metadata": {},
          "execution_count": 142
        },
        {
          "output_type": "display_data",
          "data": {
            "image/png": "[encoded data removed]",
            "text/plain": [
              "<Figure size 576x432 with 1 Axes>"
            ]
          },
          "metadata": {
            "needs_background": "light"
          }
        }
      ]
    },
    {
      "cell_type": "code",
      "metadata": {
        "id": "7khDiMzMUgKt",
        "colab": {
          "base_uri": "https://localhost:8080/",
          "height": 413
        },
        "outputId": "6b1b62f0-f42c-459d-f151-a53262eda4c3"
      },
      "source": [
        "train = data[:training_data_size]\n",
        "valid = data[training_data_size:]\n",
        "plt.figure(figsize=(8,6))\n",
        "plt.xlabel('Date in days', fontsize=18)\n",
        "plt.ylabel('Close Price in INR', fontsize=18)\n",
        "plt.plot(train['Close'])\n",
        "plt.plot(valid[['Close']])\n",
        "plt.legend(['Train','Val'],loc='lower right')\n",
        "plt.show"
      ],
      "execution_count": null,
      "outputs": [
        {
          "output_type": "execute_result",
          "data": {
            "text/plain": [
              "<function matplotlib.pyplot.show>"
            ]
          },
          "metadata": {},
          "execution_count": 143
        },
        {
          "output_type": "display_data",
          "data": {
            "image/png": "[encoded data removed]",
            "text/plain": [
              "<Figure size 576x432 with 1 Axes>"
            ]
          },
          "metadata": {
            "needs_background": "light"
          }
        }
      ]
    },
    {
      "cell_type": "code",
      "metadata": {
        "colab": {
          "base_uri": "https://localhost:8080/",
          "height": 423
        },
        "id": "ZRsUAzw9GlCM",
        "outputId": "6d590f70-b29d-4f0c-fcab-43f4ac1d595b"
      },
      "source": [
        "train"
      ],
      "execution_count": null,
      "outputs": [
        {
          "output_type": "execute_result",
          "data": {
            "text/html": [
              "<div>\n",
              "<style scoped>\n",
              "    .dataframe tbody tr th:only-of-type {\n",
              "        vertical-align: middle;\n",
              "    }\n",
              "\n",
              "    .dataframe tbody tr th {\n",
              "        vertical-align: top;\n",
              "    }\n",
              "\n",
              "    .dataframe thead th {\n",
              "        text-align: right;\n",
              "    }\n",
              "</style>\n",
              "<table border=\"1\" class=\"dataframe\">\n",
              "  <thead>\n",
              "    <tr style=\"text-align: right;\">\n",
              "      <th></th>\n",
              "      <th>Close</th>\n",
              "    </tr>\n",
              "  </thead>\n",
              "  <tbody>\n",
              "    <tr>\n",
              "      <th>0</th>\n",
              "      <td>11270.15039</td>\n",
              "    </tr>\n",
              "    <tr>\n",
              "      <th>1</th>\n",
              "      <td>11322.50000</td>\n",
              "    </tr>\n",
              "    <tr>\n",
              "      <th>2</th>\n",
              "      <td>11308.40039</td>\n",
              "    </tr>\n",
              "    <tr>\n",
              "      <th>3</th>\n",
              "      <td>11300.45020</td>\n",
              "    </tr>\n",
              "    <tr>\n",
              "      <th>4</th>\n",
              "      <td>11178.40039</td>\n",
              "    </tr>\n",
              "    <tr>\n",
              "      <th>...</th>\n",
              "      <td>...</td>\n",
              "    </tr>\n",
              "    <tr>\n",
              "      <th>195</th>\n",
              "      <td>15197.70020</td>\n",
              "    </tr>\n",
              "    <tr>\n",
              "      <th>196</th>\n",
              "      <td>15208.45020</td>\n",
              "    </tr>\n",
              "    <tr>\n",
              "      <th>197</th>\n",
              "      <td>15301.45020</td>\n",
              "    </tr>\n",
              "    <tr>\n",
              "      <th>198</th>\n",
              "      <td>15337.84961</td>\n",
              "    </tr>\n",
              "    <tr>\n",
              "      <th>199</th>\n",
              "      <td>15435.65039</td>\n",
              "    </tr>\n",
              "  </tbody>\n",
              "</table>\n",
              "<p>196 rows × 1 columns</p>\n",
              "</div>"
            ],
            "text/plain": [
              "           Close\n",
              "0    11270.15039\n",
              "1    11322.50000\n",
              "2    11308.40039\n",
              "3    11300.45020\n",
              "4    11178.40039\n",
              "..           ...\n",
              "195  15197.70020\n",
              "196  15208.45020\n",
              "197  15301.45020\n",
              "198  15337.84961\n",
              "199  15435.65039\n",
              "\n",
              "[196 rows x 1 columns]"
            ]
          },
          "metadata": {},
          "execution_count": 144
        }
      ]
    },
    {
      "cell_type": "code",
      "metadata": {
        "colab": {
          "base_uri": "https://localhost:8080/"
        },
        "id": "XxZTA4zuGray",
        "outputId": "3c96b629-c3ae-40fd-d56b-e220a8b15cee"
      },
      "source": [
        "predictions"
      ],
      "execution_count": null,
      "outputs": [
        {
          "output_type": "execute_result",
          "data": {
            "text/plain": [
              "array([[15568.411 ],\n",
              "       [15742.202 ],\n",
              "       [15732.773 ],\n",
              "       [15734.375 ],\n",
              "       [15870.166 ],\n",
              "       [15846.192 ],\n",
              "       [15943.453 ],\n",
              "       [15929.624 ],\n",
              "       [15804.628 ],\n",
              "       [15926.8125],\n",
              "       [16000.652 ],\n",
              "       [16015.668 ],\n",
              "       [16084.747 ],\n",
              "       [15962.502 ],\n",
              "       [15871.42  ],\n",
              "       [15861.814 ],\n",
              "       [15937.286 ],\n",
              "       [15968.737 ],\n",
              "       [15866.109 ],\n",
              "       [15989.969 ],\n",
              "       [16074.021 ],\n",
              "       [16019.093 ],\n",
              "       [15939.621 ],\n",
              "       [15907.376 ],\n",
              "       [15857.817 ],\n",
              "       [15908.213 ],\n",
              "       [16042.72  ],\n",
              "       [16023.359 ],\n",
              "       [16097.287 ],\n",
              "       [15915.029 ],\n",
              "       [15869.511 ],\n",
              "       [15872.852 ],\n",
              "       [16016.269 ],\n",
              "       [16066.3125],\n",
              "       [16151.081 ],\n",
              "       [16150.113 ],\n",
              "       [15944.351 ],\n",
              "       [15800.763 ],\n",
              "       [16030.332 ],\n",
              "       [16068.843 ],\n",
              "       [16030.813 ],\n",
              "       [15937.227 ],\n",
              "       [15892.915 ],\n",
              "       [15975.572 ],\n",
              "       [15957.109 ],\n",
              "       [16103.921 ],\n",
              "       [16402.15  ],\n",
              "       [16559.14  ],\n",
              "       [16603.21  ]], dtype=float32)"
            ]
          },
          "metadata": {},
          "execution_count": 145
        }
      ]
    },
    {
      "cell_type": "code",
      "metadata": {
        "colab": {
          "base_uri": "https://localhost:8080/",
          "height": 1000
        },
        "id": "HIQ9f5nb8dZn",
        "outputId": "cb5968c1-76f0-4fcc-944b-f423e3f5fd9e"
      },
      "source": [
        "valid"
      ],
      "execution_count": null,
      "outputs": [
        {
          "output_type": "execute_result",
          "data": {
            "text/html": [
              "<div>\n",
              "<style scoped>\n",
              "    .dataframe tbody tr th:only-of-type {\n",
              "        vertical-align: middle;\n",
              "    }\n",
              "\n",
              "    .dataframe tbody tr th {\n",
              "        vertical-align: top;\n",
              "    }\n",
              "\n",
              "    .dataframe thead th {\n",
              "        text-align: right;\n",
              "    }\n",
              "</style>\n",
              "<table border=\"1\" class=\"dataframe\">\n",
              "  <thead>\n",
              "    <tr style=\"text-align: right;\">\n",
              "      <th></th>\n",
              "      <th>Close</th>\n",
              "    </tr>\n",
              "  </thead>\n",
              "  <tbody>\n",
              "    <tr>\n",
              "      <th>200</th>\n",
              "      <td>15582.79981</td>\n",
              "    </tr>\n",
              "    <tr>\n",
              "      <th>201</th>\n",
              "      <td>15574.84961</td>\n",
              "    </tr>\n",
              "    <tr>\n",
              "      <th>202</th>\n",
              "      <td>15576.20020</td>\n",
              "    </tr>\n",
              "    <tr>\n",
              "      <th>203</th>\n",
              "      <td>15690.34961</td>\n",
              "    </tr>\n",
              "    <tr>\n",
              "      <th>204</th>\n",
              "      <td>15670.25000</td>\n",
              "    </tr>\n",
              "    <tr>\n",
              "      <th>205</th>\n",
              "      <td>15751.65039</td>\n",
              "    </tr>\n",
              "    <tr>\n",
              "      <th>206</th>\n",
              "      <td>15740.09961</td>\n",
              "    </tr>\n",
              "    <tr>\n",
              "      <th>207</th>\n",
              "      <td>15635.34961</td>\n",
              "    </tr>\n",
              "    <tr>\n",
              "      <th>208</th>\n",
              "      <td>15737.75000</td>\n",
              "    </tr>\n",
              "    <tr>\n",
              "      <th>209</th>\n",
              "      <td>15799.34961</td>\n",
              "    </tr>\n",
              "    <tr>\n",
              "      <th>210</th>\n",
              "      <td>15811.84961</td>\n",
              "    </tr>\n",
              "    <tr>\n",
              "      <th>211</th>\n",
              "      <td>15869.25000</td>\n",
              "    </tr>\n",
              "    <tr>\n",
              "      <th>212</th>\n",
              "      <td>15767.54981</td>\n",
              "    </tr>\n",
              "    <tr>\n",
              "      <th>213</th>\n",
              "      <td>15691.40039</td>\n",
              "    </tr>\n",
              "    <tr>\n",
              "      <th>214</th>\n",
              "      <td>15683.34961</td>\n",
              "    </tr>\n",
              "    <tr>\n",
              "      <th>215</th>\n",
              "      <td>15746.50000</td>\n",
              "    </tr>\n",
              "    <tr>\n",
              "      <th>216</th>\n",
              "      <td>15772.75000</td>\n",
              "    </tr>\n",
              "    <tr>\n",
              "      <th>217</th>\n",
              "      <td>15686.95020</td>\n",
              "    </tr>\n",
              "    <tr>\n",
              "      <th>218</th>\n",
              "      <td>15790.45020</td>\n",
              "    </tr>\n",
              "    <tr>\n",
              "      <th>219</th>\n",
              "      <td>15860.34961</td>\n",
              "    </tr>\n",
              "    <tr>\n",
              "      <th>220</th>\n",
              "      <td>15814.70020</td>\n",
              "    </tr>\n",
              "    <tr>\n",
              "      <th>221</th>\n",
              "      <td>15748.45020</td>\n",
              "    </tr>\n",
              "    <tr>\n",
              "      <th>222</th>\n",
              "      <td>15721.50000</td>\n",
              "    </tr>\n",
              "    <tr>\n",
              "      <th>223</th>\n",
              "      <td>15680.00000</td>\n",
              "    </tr>\n",
              "    <tr>\n",
              "      <th>224</th>\n",
              "      <td>15722.20020</td>\n",
              "    </tr>\n",
              "    <tr>\n",
              "      <th>225</th>\n",
              "      <td>15834.34961</td>\n",
              "    </tr>\n",
              "    <tr>\n",
              "      <th>226</th>\n",
              "      <td>15818.25000</td>\n",
              "    </tr>\n",
              "    <tr>\n",
              "      <th>227</th>\n",
              "      <td>15879.65039</td>\n",
              "    </tr>\n",
              "    <tr>\n",
              "      <th>228</th>\n",
              "      <td>15727.90039</td>\n",
              "    </tr>\n",
              "    <tr>\n",
              "      <th>229</th>\n",
              "      <td>15689.79981</td>\n",
              "    </tr>\n",
              "    <tr>\n",
              "      <th>230</th>\n",
              "      <td>15692.59961</td>\n",
              "    </tr>\n",
              "    <tr>\n",
              "      <th>231</th>\n",
              "      <td>15812.34961</td>\n",
              "    </tr>\n",
              "    <tr>\n",
              "      <th>232</th>\n",
              "      <td>15853.95020</td>\n",
              "    </tr>\n",
              "    <tr>\n",
              "      <th>233</th>\n",
              "      <td>15924.20020</td>\n",
              "    </tr>\n",
              "    <tr>\n",
              "      <th>234</th>\n",
              "      <td>15923.40039</td>\n",
              "    </tr>\n",
              "    <tr>\n",
              "      <th>235</th>\n",
              "      <td>15752.40039</td>\n",
              "    </tr>\n",
              "    <tr>\n",
              "      <th>236</th>\n",
              "      <td>15632.09961</td>\n",
              "    </tr>\n",
              "    <tr>\n",
              "      <th>237</th>\n",
              "      <td>15824.04981</td>\n",
              "    </tr>\n",
              "    <tr>\n",
              "      <th>238</th>\n",
              "      <td>15856.04981</td>\n",
              "    </tr>\n",
              "    <tr>\n",
              "      <th>239</th>\n",
              "      <td>15824.45020</td>\n",
              "    </tr>\n",
              "    <tr>\n",
              "      <th>240</th>\n",
              "      <td>15746.45020</td>\n",
              "    </tr>\n",
              "    <tr>\n",
              "      <th>241</th>\n",
              "      <td>15709.40039</td>\n",
              "    </tr>\n",
              "    <tr>\n",
              "      <th>242</th>\n",
              "      <td>15778.45020</td>\n",
              "    </tr>\n",
              "    <tr>\n",
              "      <th>243</th>\n",
              "      <td>15763.04981</td>\n",
              "    </tr>\n",
              "    <tr>\n",
              "      <th>244</th>\n",
              "      <td>15885.15039</td>\n",
              "    </tr>\n",
              "    <tr>\n",
              "      <th>245</th>\n",
              "      <td>16130.75000</td>\n",
              "    </tr>\n",
              "    <tr>\n",
              "      <th>246</th>\n",
              "      <td>16258.79981</td>\n",
              "    </tr>\n",
              "    <tr>\n",
              "      <th>247</th>\n",
              "      <td>16294.59961</td>\n",
              "    </tr>\n",
              "    <tr>\n",
              "      <th>248</th>\n",
              "      <td>16238.20020</td>\n",
              "    </tr>\n",
              "  </tbody>\n",
              "</table>\n",
              "</div>"
            ],
            "text/plain": [
              "           Close\n",
              "200  15582.79981\n",
              "201  15574.84961\n",
              "202  15576.20020\n",
              "203  15690.34961\n",
              "204  15670.25000\n",
              "205  15751.65039\n",
              "206  15740.09961\n",
              "207  15635.34961\n",
              "208  15737.75000\n",
              "209  15799.34961\n",
              "210  15811.84961\n",
              "211  15869.25000\n",
              "212  15767.54981\n",
              "213  15691.40039\n",
              "214  15683.34961\n",
              "215  15746.50000\n",
              "216  15772.75000\n",
              "217  15686.95020\n",
              "218  15790.45020\n",
              "219  15860.34961\n",
              "220  15814.70020\n",
              "221  15748.45020\n",
              "222  15721.50000\n",
              "223  15680.00000\n",
              "224  15722.20020\n",
              "225  15834.34961\n",
              "226  15818.25000\n",
              "227  15879.65039\n",
              "228  15727.90039\n",
              "229  15689.79981\n",
              "230  15692.59961\n",
              "231  15812.34961\n",
              "232  15853.95020\n",
              "233  15924.20020\n",
              "234  15923.40039\n",
              "235  15752.40039\n",
              "236  15632.09961\n",
              "237  15824.04981\n",
              "238  15856.04981\n",
              "239  15824.45020\n",
              "240  15746.45020\n",
              "241  15709.40039\n",
              "242  15778.45020\n",
              "243  15763.04981\n",
              "244  15885.15039\n",
              "245  16130.75000\n",
              "246  16258.79981\n",
              "247  16294.59961\n",
              "248  16238.20020"
            ]
          },
          "metadata": {},
          "execution_count": 146
        }
      ]
    },
    {
      "cell_type": "code",
      "metadata": {
        "id": "io4OV8H18sFn"
      },
      "source": [
        ""
      ],
      "execution_count": null,
      "outputs": []
    }
  ]
}